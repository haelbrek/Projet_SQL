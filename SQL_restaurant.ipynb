{
 "cells": [
  {
   "cell_type": "code",
   "execution_count": 45,
   "metadata": {},
   "outputs": [],
   "source": [
    "import sqlalchemy as db"
   ]
  },
  {
   "cell_type": "code",
   "execution_count": 46,
   "metadata": {},
   "outputs": [],
   "source": [
    "import sqlalchemy as db\n",
    "import pandas as pd\n",
    "from sqlalchemy import ForeignKey "
   ]
  },
  {
   "cell_type": "code",
   "execution_count": 62,
   "metadata": {},
   "outputs": [],
   "source": [
    "engine = db.create_engine('sqlite:///base.sqlite') #Create test.sqlite automatically\n",
    "connection = engine.connect()\n",
    "metadata = db.MetaData()\n",
    "emp = db.Table('Pays', metadata,\n",
    "              db.Column('pays', db.String(255),primary_key=True),\n",
    "              )\n",
    "emp = db.Table('Restaurant', metadata,\n",
    "              db.Column('code_postal', db.String(255), nullable=False,primary_key=True),\n",
    "              db.Column('pays', db.String(255), ForeignKey('Pays.pays')),\n",
    "              db.Column('espace_enfant', db.Integer()),\n",
    "              db.Column('service_rapide', db.Integer()),\n",
    "              db.Column('accessibilite', db.Integer()),\n",
    "              db.Column('parking', db.Integer, default=1),\n",
    "              )\n",
    "emp = db.Table('Employe', metadata,\n",
    "              db.Column('id_employe',  db.Integer(),primary_key=True),\n",
    "              db.Column('code_postal', db.String(200), ForeignKey('Restaurant.code_postal')),\n",
    "            #   db.Column('id_superieur', db.Integer(), ForeignKey('Employe.id_employe')),\n",
    "              db.Column('poste', db.String(200),nullable=False),\n",
    "              db.Column('nom', db.String(200),nullable=False),\n",
    "              db.Column('adresse', db.String(200), nullable=False),\n",
    "              db.Column('note',db.Float())\n",
    "              )\n",
    "emp = db.Table('RIB', metadata,\n",
    "              db.Column('id_employe',  db.Integer(),ForeignKey('Employe.id_employe'), nullable=False,primary_key=True),\n",
    "              db.Column('iban', db.String(255),nullable=False),\n",
    "              db.Column('bic', db.String(),nullable=False),\n",
    "              db.Column('propriètaire', db.String(),nullable=False),\n",
    "              db.Column('adresse', db.String(), nullable=False),\n",
    "              )\n",
    "emp = db.Table('Paie', metadata,\n",
    "              db.Column('id_employe',  db.Integer(),ForeignKey('Employe.id_employe'), nullable=False,primary_key=True),\n",
    "              db.Column('date', db.String(),nullable=False),\n",
    "              db.Column('salaire_net', db.Float(),nullable=False),\n",
    "              )\n",
    "emp = db.Table('CarteMenu', metadata,\n",
    "              db.Column('pays',  db.Integer(),ForeignKey('Pays.pays'), nullable=False,primary_key=True),\n",
    "              db.Column('id_menu', db.Integer(),ForeignKey('Menu.id_menu'),primary_key=True,nullable=False),\n",
    "              db.Column('salaire_net', db.Float(),nullable=False),\n",
    "              )\n",
    "emp = db.Table('Menu', metadata,\n",
    "              db.Column('id_menu',  db.Integer(), nullable=False,primary_key=True),\n",
    "              db.Column('boisson', db.String(),ForeignKey('Item.nom_item'),nullable=False),\n",
    "              db.Column('plat', db.String(),ForeignKey('Item.nom_item'),nullable=False),\n",
    "              db.Column('dessert', db.String(),ForeignKey('Item.nom_item'),nullable=False),\n",
    "              db.Column('prix', db.Float(),nullable=False),\n",
    "              )\n",
    "emp = db.Table('Item', metadata,\n",
    "              db.Column('nom_item',  db.String(), nullable=False,primary_key=True),\n",
    "              db.Column('type', db.String(),nullable=False),\n",
    "              db.Column('prix', db.Float(),nullable=False),\n",
    "              )\n",
    "emp = db.Table('CarteItem', metadata,\n",
    "              db.Column('pays',  db.Integer(),ForeignKey('Pays.pays'), nullable=False,primary_key=True),\n",
    "              db.Column('id_item', db.Integer(),ForeignKey('Item.nom_item'),primary_key=True,nullable=False),    \n",
    "              )\n",
    "\n",
    "emp = db.Table('PanierMenu', metadata,\n",
    "              db.Column('id_bill',  db.Integer(),ForeignKey('Bill.id_bill'), nullable=False,primary_key=True),\n",
    "              db.Column('id_menu', db.Integer(),ForeignKey('Menu.id_menu'),nullable=False),\n",
    "              db.Column('quantité', db.Float(),nullable=False),\n",
    "              )\n",
    "emp = db.Table('PanierItem', metadata,\n",
    "              db.Column('nom_item',  db.String(),ForeignKey('Item.nom_item'), nullable=False,primary_key=True),\n",
    "              db.Column('id_bill', db.Integer(),ForeignKey('Bill.id_bill'),nullable=False),\n",
    "              db.Column('quantité', db.Float(),nullable=False),\n",
    "              )\n",
    "\n",
    "emp = db.Table('Bill', metadata,\n",
    "              db.Column('id_bill', db.Integer(),primary_key=True, nullable=False),\n",
    "              db.Column('code_postal', db.String(255), ForeignKey('Restaurant.code_postal'),nullable=False),\n",
    "              db.Column('id_vendeur', db.Integer(),ForeignKey('Employe.id_employe'),nullable=False),\n",
    "              db.Column('born', db.Integer(),nullable=False),\n",
    "              db.Column('moyen_paiment', db.String(),nullable=False),\n",
    "              db.Column('prix_total', db.Float(),nullable=False),\n",
    ")\n",
    "emp = db.Table('Recette', metadata,\n",
    "              db.Column('nom_item',  db.String(),ForeignKey('Item.nom_item'), nullable=False,primary_key=True),\n",
    "              db.Column('nom_ingredient', db.String(),ForeignKey('Ingredient.nom_ingredient'),nullable=False,primary_key=True),\n",
    "              db.Column('quantité', db.Integer(),nullable=False),\n",
    "              )\n",
    "\n",
    "emp = db.Table('Ingredient', metadata,\n",
    "              db.Column('nom_ingredient', db.String(),nullable=False,primary_key=True),\n",
    "              db.Column('cout', db.Float(),nullable=False),\n",
    ")\n",
    "\n",
    "emp = db.Table('Stock', metadata,\n",
    "              db.Column('nom_ingredient', db.String(),ForeignKey('Ingredient.nom_ingredient'),nullable=False),\n",
    "              db.Column('code_postal', db.String(),ForeignKey('Restaurant.code_postal'),nullable=False, primary_key=True),\n",
    "              db.Column('quantité', db.Integer()),\n",
    "\n",
    ")\n",
    "metadata.create_all(engine) #Creates the table"
   ]
  },
  {
   "cell_type": "code",
   "execution_count": 16,
   "metadata": {},
   "outputs": [],
   "source": [
    "#Inserting record one by one\n",
    "query = db.insert(emp).values(Id=1, name='naveen', salary=60000.00, active=True) \n",
    "ResultProxy = connection.execute(query)"
   ]
  },
  {
   "cell_type": "code",
   "execution_count": 17,
   "metadata": {},
   "outputs": [],
   "source": [
    "#Inserting many records at ones\n",
    "query = db.insert(emp) \n",
    "values_list = [{'Id':'2', 'name':'ram', 'salary':80000, 'active':False},\n",
    "               {'Id':'3', 'name':'ramesh', 'salary':70000, 'active':True}]\n",
    "ResultProxy = connection.execute(query,values_list)\n"
   ]
  },
  {
   "cell_type": "code",
   "execution_count": 20,
   "metadata": {},
   "outputs": [
    {
     "data": {
      "text/plain": [
       "(3, 4)"
      ]
     },
     "execution_count": 20,
     "metadata": {},
     "output_type": "execute_result"
    }
   ],
   "source": [
    "\n",
    "results = connection.execute(db.select([emp])).fetchall()\n",
    "df = pd.DataFrame(results)\n",
    "df.columns = results[0].keys()\n",
    "df.shape"
   ]
  },
  {
   "cell_type": "code",
   "execution_count": null,
   "metadata": {},
   "outputs": [],
   "source": [
    "\n",
    "results = connection.execute(db.select([emp])).fetchall()\n",
    "df = pd.DataFrame(results)\n",
    "df.columns = results[0].keys()\n",
    "df.shape"
   ]
  },
  {
   "cell_type": "code",
   "execution_count": null,
   "metadata": {},
   "outputs": [],
   "source": []
  }
 ],
 "metadata": {
  "kernelspec": {
   "display_name": "Python 3.10.8 ('env_Data_Analyst')",
   "language": "python",
   "name": "python3"
  },
  "language_info": {
   "codemirror_mode": {
    "name": "ipython",
    "version": 3
   },
   "file_extension": ".py",
   "mimetype": "text/x-python",
   "name": "python",
   "nbconvert_exporter": "python",
   "pygments_lexer": "ipython3",
   "version": "3.10.8"
  },
  "orig_nbformat": 4,
  "vscode": {
   "interpreter": {
    "hash": "0920b6d888fcdbeceb69ca45aa60394d1f15e2c3f89d50dfba6427d9dfa2a6c7"
   }
  }
 },
 "nbformat": 4,
 "nbformat_minor": 2
}
