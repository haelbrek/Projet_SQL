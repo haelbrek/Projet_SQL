{
 "cells": [
  {
   "cell_type": "code",
   "execution_count": 4,
   "metadata": {},
   "outputs": [],
   "source": [
    "import sqlalchemy as db\n",
    "import pandas as pd\n",
    "from sqlalchemy import ForeignKey "
   ]
  },
  {
   "cell_type": "code",
   "execution_count": 5,
   "metadata": {},
   "outputs": [],
   "source": [
    "engine = db.create_engine('sqlite:///base.sqlite') #Create test.sqlite automatically\n",
    "connection = engine.connect()\n",
    "metadata = db.MetaData()\n",
    "emp = db.Table('Pays', metadata,\n",
    "              db.Column('pays', db.String(255),primary_key=True),\n",
    "              )\n",
    "emp = db.Table('Restaurant', metadata,\n",
    "              db.Column('code_postal', db.String(255), nullable=False,primary_key=True),\n",
    "              db.Column('pays', db.String(255), ForeignKey('Pays.pays')),\n",
    "              db.Column('capacité', db.Integer()),\n",
    "              db.Column('espace_enfant', db.Integer()),\n",
    "              db.Column('service_rapide', db.Integer()),\n",
    "              db.Column('parking', db.Integer, default=1),\n",
    "              db.Column('accessibilite', db.Integer()),\n",
    "              )\n",
    "emp = db.Table('Employe', metadata,\n",
    "              db.Column('id_employe',  db.Integer(),primary_key=True),\n",
    "              db.Column('code_postal', db.String(200), ForeignKey('Restaurant.code_postal')),\n",
    "            #   db.Column('id_superieur', db.Integer(), ForeignKey('Employe.id_employe')),\n",
    "              db.Column('poste', db.String(200),nullable=False),\n",
    "              db.Column('nom', db.String(200),nullable=False),\n",
    "              db.Column('adresse', db.String(200), nullable=False),\n",
    "              db.Column('note',db.Float())\n",
    "              )\n",
    "emp = db.Table('RIB', metadata,\n",
    "              db.Column('id_employe',  db.Integer(),ForeignKey('Employe.id_employe'), nullable=False,primary_key=True),\n",
    "              db.Column('iban', db.String(255),nullable=False),\n",
    "              db.Column('bic', db.String(),nullable=False),\n",
    "              db.Column('propriètaire', db.String(),nullable=False),\n",
    "              db.Column('adresse', db.String(), nullable=False),\n",
    "              )\n",
    "emp = db.Table('Paie', metadata,\n",
    "              db.Column('id_employe',  db.Integer(),ForeignKey('Employe.id_employe'), nullable=False,primary_key=True),\n",
    "              db.Column('date', db.String(),nullable=False),\n",
    "              db.Column('salaire_net', db.Float(),nullable=False),\n",
    "              )\n",
    "emp = db.Table('CarteMenu', metadata,\n",
    "              db.Column('pays',  db.Integer(),ForeignKey('Pays.pays'), nullable=False,primary_key=True),\n",
    "              db.Column('id_menu', db.Integer(),ForeignKey('Menu.id_menu'),primary_key=True,nullable=False),\n",
    "              db.Column('salaire_net', db.Float(),nullable=False),\n",
    "              )\n",
    "emp = db.Table('Menu', metadata,\n",
    "              db.Column('id_menu',  db.Integer(), nullable=False,primary_key=True),\n",
    "              db.Column('boisson', db.String(),ForeignKey('Item.nom_item'),nullable=False),\n",
    "              db.Column('plat', db.String(),ForeignKey('Item.nom_item'),nullable=False),\n",
    "              db.Column('dessert', db.String(),ForeignKey('Item.nom_item'),nullable=False),\n",
    "              db.Column('prix', db.Float(),nullable=False),\n",
    "              )\n",
    "emp = db.Table('Item', metadata,\n",
    "              db.Column('nom_item',  db.String(), nullable=False,primary_key=True),\n",
    "              db.Column('type', db.String(),nullable=False),\n",
    "              db.Column('prix', db.Float(),nullable=False),\n",
    "              )\n",
    "emp = db.Table('CarteItem', metadata,\n",
    "              db.Column('pays',  db.Integer(),ForeignKey('Pays.pays'), nullable=False,primary_key=True),\n",
    "              db.Column('id_item', db.Integer(),ForeignKey('Item.nom_item'),primary_key=True,nullable=False),    \n",
    "              )\n",
    "\n",
    "emp = db.Table('PanierMenu', metadata,\n",
    "              db.Column('id_bill',  db.Integer(),ForeignKey('Bill.id_bill'), nullable=False,primary_key=True),\n",
    "              db.Column('id_menu', db.Integer(),ForeignKey('Menu.id_menu'),nullable=False),\n",
    "              db.Column('quantité', db.Float(),nullable=False),\n",
    "              )\n",
    "emp = db.Table('PanierItem', metadata,\n",
    "              db.Column('nom_item',  db.String(),ForeignKey('Item.nom_item'), nullable=False,primary_key=True),\n",
    "              db.Column('id_bill', db.Integer(),ForeignKey('Bill.id_bill'),nullable=False),\n",
    "              db.Column('quantité', db.Float(),nullable=False),\n",
    "              )\n",
    "\n",
    "emp = db.Table('Bill', metadata,\n",
    "              db.Column('id_bill', db.Integer(),primary_key=True, nullable=False),\n",
    "              db.Column('code_postal', db.String(255), ForeignKey('Restaurant.code_postal'),nullable=False),\n",
    "              db.Column('id_vendeur', db.Integer(),ForeignKey('Employe.id_employe'),nullable=False),\n",
    "              db.Column('born', db.Integer(),nullable=False),\n",
    "              db.Column('moyen_paiment', db.String(),nullable=False),\n",
    "              db.Column('prix_total', db.Float(),nullable=False),\n",
    ")\n",
    "emp = db.Table('Recette', metadata,\n",
    "              db.Column('nom_item',  db.String(),ForeignKey('Item.nom_item'), nullable=False,primary_key=True),\n",
    "              db.Column('nom_ingredient', db.String(),ForeignKey('Ingredient.nom_ingredient'),nullable=False,primary_key=True),\n",
    "              db.Column('quantité', db.Integer(),nullable=False),\n",
    "              )\n",
    "\n",
    "emp = db.Table('Ingredient', metadata,\n",
    "              db.Column('nom_ingredient', db.String(),nullable=False,primary_key=True),\n",
    "              db.Column('cout', db.Float(),nullable=False),\n",
    ")\n",
    "\n",
    "emp = db.Table('Stock', metadata,\n",
    "              db.Column('nom_ingredient', db.String(),ForeignKey('Ingredient.nom_ingredient'),nullable=False),\n",
    "              db.Column('code_postal', db.String(),ForeignKey('Restaurant.code_postal'),nullable=False, primary_key=True),\n",
    "              db.Column('quantité', db.Integer()),\n",
    "\n",
    ")\n",
    "metadata.create_all(engine) #Creates the table"
   ]
  },
  {
   "cell_type": "code",
   "execution_count": null,
   "metadata": {},
   "outputs": [
    {
     "name": "stderr",
     "output_type": "stream",
     "text": [
      "/tmp/ipykernel_51561/293162416.py:3: SAWarning: Column 'Stock.code_postal' is marked as a member of the primary key for table 'Stock', but has no Python-side or server-side default generator indicated, nor does it indicate 'autoincrement=True' or 'nullable=True', and no explicit value is passed.  Primary key columns typically may not store NULL.\n",
      "  ResultProxy = connection.execute(query)\n"
     ]
    },
    {
     "ename": "CompileError",
     "evalue": "Unconsumed column names: name, active, salary, Id",
     "output_type": "error",
     "traceback": [
      "\u001b[0;31m---------------------------------------------------------------------------\u001b[0m",
      "\u001b[0;31mCompileError\u001b[0m                              Traceback (most recent call last)",
      "Cell \u001b[0;32mIn [4], line 3\u001b[0m\n\u001b[1;32m      1\u001b[0m \u001b[39m#Inserting record one by one\u001b[39;00m\n\u001b[1;32m      2\u001b[0m query \u001b[39m=\u001b[39m db\u001b[39m.\u001b[39minsert(emp)\u001b[39m.\u001b[39mvalues(Id\u001b[39m=\u001b[39m\u001b[39m1\u001b[39m, name\u001b[39m=\u001b[39m\u001b[39m'\u001b[39m\u001b[39mnaveen\u001b[39m\u001b[39m'\u001b[39m, salary\u001b[39m=\u001b[39m\u001b[39m60000.00\u001b[39m, active\u001b[39m=\u001b[39m\u001b[39mTrue\u001b[39;00m) \n\u001b[0;32m----> 3\u001b[0m ResultProxy \u001b[39m=\u001b[39m connection\u001b[39m.\u001b[39;49mexecute(query)\n",
      "File \u001b[0;32m~/miniconda3/envs/data/lib/python3.10/site-packages/sqlalchemy/engine/base.py:1306\u001b[0m, in \u001b[0;36mConnection.execute\u001b[0;34m(self, statement, *multiparams, **params)\u001b[0m\n\u001b[1;32m   1302\u001b[0m     util\u001b[39m.\u001b[39mraise_(\n\u001b[1;32m   1303\u001b[0m         exc\u001b[39m.\u001b[39mObjectNotExecutableError(statement), replace_context\u001b[39m=\u001b[39merr\n\u001b[1;32m   1304\u001b[0m     )\n\u001b[1;32m   1305\u001b[0m \u001b[39melse\u001b[39;00m:\n\u001b[0;32m-> 1306\u001b[0m     \u001b[39mreturn\u001b[39;00m meth(\u001b[39mself\u001b[39;49m, multiparams, params, _EMPTY_EXECUTION_OPTS)\n",
      "File \u001b[0;32m~/miniconda3/envs/data/lib/python3.10/site-packages/sqlalchemy/sql/elements.py:332\u001b[0m, in \u001b[0;36mClauseElement._execute_on_connection\u001b[0;34m(self, connection, multiparams, params, execution_options, _force)\u001b[0m\n\u001b[1;32m    328\u001b[0m \u001b[39mdef\u001b[39;00m \u001b[39m_execute_on_connection\u001b[39m(\n\u001b[1;32m    329\u001b[0m     \u001b[39mself\u001b[39m, connection, multiparams, params, execution_options, _force\u001b[39m=\u001b[39m\u001b[39mFalse\u001b[39;00m\n\u001b[1;32m    330\u001b[0m ):\n\u001b[1;32m    331\u001b[0m     \u001b[39mif\u001b[39;00m _force \u001b[39mor\u001b[39;00m \u001b[39mself\u001b[39m\u001b[39m.\u001b[39msupports_execution:\n\u001b[0;32m--> 332\u001b[0m         \u001b[39mreturn\u001b[39;00m connection\u001b[39m.\u001b[39;49m_execute_clauseelement(\n\u001b[1;32m    333\u001b[0m             \u001b[39mself\u001b[39;49m, multiparams, params, execution_options\n\u001b[1;32m    334\u001b[0m         )\n\u001b[1;32m    335\u001b[0m     \u001b[39melse\u001b[39;00m:\n\u001b[1;32m    336\u001b[0m         \u001b[39mraise\u001b[39;00m exc\u001b[39m.\u001b[39mObjectNotExecutableError(\u001b[39mself\u001b[39m)\n",
      "File \u001b[0;32m~/miniconda3/envs/data/lib/python3.10/site-packages/sqlalchemy/engine/base.py:1490\u001b[0m, in \u001b[0;36mConnection._execute_clauseelement\u001b[0;34m(self, elem, multiparams, params, execution_options)\u001b[0m\n\u001b[1;32m   1482\u001b[0m schema_translate_map \u001b[39m=\u001b[39m execution_options\u001b[39m.\u001b[39mget(\n\u001b[1;32m   1483\u001b[0m     \u001b[39m\"\u001b[39m\u001b[39mschema_translate_map\u001b[39m\u001b[39m\"\u001b[39m, \u001b[39mNone\u001b[39;00m\n\u001b[1;32m   1484\u001b[0m )\n\u001b[1;32m   1486\u001b[0m compiled_cache \u001b[39m=\u001b[39m execution_options\u001b[39m.\u001b[39mget(\n\u001b[1;32m   1487\u001b[0m     \u001b[39m\"\u001b[39m\u001b[39mcompiled_cache\u001b[39m\u001b[39m\"\u001b[39m, \u001b[39mself\u001b[39m\u001b[39m.\u001b[39mengine\u001b[39m.\u001b[39m_compiled_cache\n\u001b[1;32m   1488\u001b[0m )\n\u001b[0;32m-> 1490\u001b[0m compiled_sql, extracted_params, cache_hit \u001b[39m=\u001b[39m elem\u001b[39m.\u001b[39;49m_compile_w_cache(\n\u001b[1;32m   1491\u001b[0m     dialect\u001b[39m=\u001b[39;49mdialect,\n\u001b[1;32m   1492\u001b[0m     compiled_cache\u001b[39m=\u001b[39;49mcompiled_cache,\n\u001b[1;32m   1493\u001b[0m     column_keys\u001b[39m=\u001b[39;49mkeys,\n\u001b[1;32m   1494\u001b[0m     for_executemany\u001b[39m=\u001b[39;49mfor_executemany,\n\u001b[1;32m   1495\u001b[0m     schema_translate_map\u001b[39m=\u001b[39;49mschema_translate_map,\n\u001b[1;32m   1496\u001b[0m     linting\u001b[39m=\u001b[39;49m\u001b[39mself\u001b[39;49m\u001b[39m.\u001b[39;49mdialect\u001b[39m.\u001b[39;49mcompiler_linting \u001b[39m|\u001b[39;49m compiler\u001b[39m.\u001b[39;49mWARN_LINTING,\n\u001b[1;32m   1497\u001b[0m )\n\u001b[1;32m   1498\u001b[0m ret \u001b[39m=\u001b[39m \u001b[39mself\u001b[39m\u001b[39m.\u001b[39m_execute_context(\n\u001b[1;32m   1499\u001b[0m     dialect,\n\u001b[1;32m   1500\u001b[0m     dialect\u001b[39m.\u001b[39mexecution_ctx_cls\u001b[39m.\u001b[39m_init_compiled,\n\u001b[0;32m   (...)\u001b[0m\n\u001b[1;32m   1508\u001b[0m     cache_hit\u001b[39m=\u001b[39mcache_hit,\n\u001b[1;32m   1509\u001b[0m )\n\u001b[1;32m   1510\u001b[0m \u001b[39mif\u001b[39;00m has_events:\n",
      "File \u001b[0;32m~/miniconda3/envs/data/lib/python3.10/site-packages/sqlalchemy/sql/elements.py:530\u001b[0m, in \u001b[0;36mClauseElement._compile_w_cache\u001b[0;34m(self, dialect, compiled_cache, column_keys, for_executemany, schema_translate_map, **kw)\u001b[0m\n\u001b[1;32m    528\u001b[0m \u001b[39mif\u001b[39;00m compiled_sql \u001b[39mis\u001b[39;00m \u001b[39mNone\u001b[39;00m:\n\u001b[1;32m    529\u001b[0m     cache_hit \u001b[39m=\u001b[39m dialect\u001b[39m.\u001b[39mCACHE_MISS\n\u001b[0;32m--> 530\u001b[0m     compiled_sql \u001b[39m=\u001b[39m \u001b[39mself\u001b[39;49m\u001b[39m.\u001b[39;49m_compiler(\n\u001b[1;32m    531\u001b[0m         dialect,\n\u001b[1;32m    532\u001b[0m         cache_key\u001b[39m=\u001b[39;49melem_cache_key,\n\u001b[1;32m    533\u001b[0m         column_keys\u001b[39m=\u001b[39;49mcolumn_keys,\n\u001b[1;32m    534\u001b[0m         for_executemany\u001b[39m=\u001b[39;49mfor_executemany,\n\u001b[1;32m    535\u001b[0m         schema_translate_map\u001b[39m=\u001b[39;49mschema_translate_map,\n\u001b[1;32m    536\u001b[0m         \u001b[39m*\u001b[39;49m\u001b[39m*\u001b[39;49mkw\n\u001b[1;32m    537\u001b[0m     )\n\u001b[1;32m    538\u001b[0m     compiled_cache[key] \u001b[39m=\u001b[39m compiled_sql\n\u001b[1;32m    539\u001b[0m \u001b[39melse\u001b[39;00m:\n",
      "File \u001b[0;32m~/miniconda3/envs/data/lib/python3.10/site-packages/sqlalchemy/sql/elements.py:565\u001b[0m, in \u001b[0;36mClauseElement._compiler\u001b[0;34m(self, dialect, **kw)\u001b[0m\n\u001b[1;32m    561\u001b[0m \u001b[39mdef\u001b[39;00m \u001b[39m_compiler\u001b[39m(\u001b[39mself\u001b[39m, dialect, \u001b[39m*\u001b[39m\u001b[39m*\u001b[39mkw):\n\u001b[1;32m    562\u001b[0m     \u001b[39m\"\"\"Return a compiler appropriate for this ClauseElement, given a\u001b[39;00m\n\u001b[1;32m    563\u001b[0m \u001b[39m    Dialect.\"\"\"\u001b[39;00m\n\u001b[0;32m--> 565\u001b[0m     \u001b[39mreturn\u001b[39;00m dialect\u001b[39m.\u001b[39;49mstatement_compiler(dialect, \u001b[39mself\u001b[39;49m, \u001b[39m*\u001b[39;49m\u001b[39m*\u001b[39;49mkw)\n",
      "File \u001b[0;32m~/miniconda3/envs/data/lib/python3.10/site-packages/sqlalchemy/sql/compiler.py:778\u001b[0m, in \u001b[0;36mSQLCompiler.__init__\u001b[0;34m(self, dialect, statement, cache_key, column_keys, for_executemany, linting, **kwargs)\u001b[0m\n\u001b[1;32m    774\u001b[0m \u001b[39m# a map which tracks \"truncated\" names based on\u001b[39;00m\n\u001b[1;32m    775\u001b[0m \u001b[39m# dialect.label_length or dialect.max_identifier_length\u001b[39;00m\n\u001b[1;32m    776\u001b[0m \u001b[39mself\u001b[39m\u001b[39m.\u001b[39mtruncated_names \u001b[39m=\u001b[39m {}\n\u001b[0;32m--> 778\u001b[0m Compiled\u001b[39m.\u001b[39;49m\u001b[39m__init__\u001b[39;49m(\u001b[39mself\u001b[39;49m, dialect, statement, \u001b[39m*\u001b[39;49m\u001b[39m*\u001b[39;49mkwargs)\n\u001b[1;32m    780\u001b[0m \u001b[39mif\u001b[39;00m \u001b[39mself\u001b[39m\u001b[39m.\u001b[39misinsert \u001b[39mor\u001b[39;00m \u001b[39mself\u001b[39m\u001b[39m.\u001b[39misupdate \u001b[39mor\u001b[39;00m \u001b[39mself\u001b[39m\u001b[39m.\u001b[39misdelete:\n\u001b[1;32m    781\u001b[0m     \u001b[39mif\u001b[39;00m statement\u001b[39m.\u001b[39m_returning:\n",
      "File \u001b[0;32m~/miniconda3/envs/data/lib/python3.10/site-packages/sqlalchemy/sql/compiler.py:451\u001b[0m, in \u001b[0;36mCompiled.__init__\u001b[0;34m(self, dialect, statement, schema_translate_map, render_schema_translate, compile_kwargs)\u001b[0m\n\u001b[1;32m    449\u001b[0m \u001b[39mif\u001b[39;00m \u001b[39mself\u001b[39m\u001b[39m.\u001b[39mcan_execute:\n\u001b[1;32m    450\u001b[0m     \u001b[39mself\u001b[39m\u001b[39m.\u001b[39mexecution_options \u001b[39m=\u001b[39m statement\u001b[39m.\u001b[39m_execution_options\n\u001b[0;32m--> 451\u001b[0m \u001b[39mself\u001b[39m\u001b[39m.\u001b[39mstring \u001b[39m=\u001b[39m \u001b[39mself\u001b[39;49m\u001b[39m.\u001b[39;49mprocess(\u001b[39mself\u001b[39;49m\u001b[39m.\u001b[39;49mstatement, \u001b[39m*\u001b[39;49m\u001b[39m*\u001b[39;49mcompile_kwargs)\n\u001b[1;32m    453\u001b[0m \u001b[39mif\u001b[39;00m render_schema_translate:\n\u001b[1;32m    454\u001b[0m     \u001b[39mself\u001b[39m\u001b[39m.\u001b[39mstring \u001b[39m=\u001b[39m \u001b[39mself\u001b[39m\u001b[39m.\u001b[39mpreparer\u001b[39m.\u001b[39m_render_schema_translates(\n\u001b[1;32m    455\u001b[0m         \u001b[39mself\u001b[39m\u001b[39m.\u001b[39mstring, schema_translate_map\n\u001b[1;32m    456\u001b[0m     )\n",
      "File \u001b[0;32m~/miniconda3/envs/data/lib/python3.10/site-packages/sqlalchemy/sql/compiler.py:486\u001b[0m, in \u001b[0;36mCompiled.process\u001b[0;34m(self, obj, **kwargs)\u001b[0m\n\u001b[1;32m    485\u001b[0m \u001b[39mdef\u001b[39;00m \u001b[39mprocess\u001b[39m(\u001b[39mself\u001b[39m, obj, \u001b[39m*\u001b[39m\u001b[39m*\u001b[39mkwargs):\n\u001b[0;32m--> 486\u001b[0m     \u001b[39mreturn\u001b[39;00m obj\u001b[39m.\u001b[39;49m_compiler_dispatch(\u001b[39mself\u001b[39;49m, \u001b[39m*\u001b[39;49m\u001b[39m*\u001b[39;49mkwargs)\n",
      "File \u001b[0;32m~/miniconda3/envs/data/lib/python3.10/site-packages/sqlalchemy/sql/visitors.py:82\u001b[0m, in \u001b[0;36m_generate_compiler_dispatch.<locals>._compiler_dispatch\u001b[0;34m(self, visitor, **kw)\u001b[0m\n\u001b[1;32m     79\u001b[0m     \u001b[39mreturn\u001b[39;00m visitor\u001b[39m.\u001b[39mvisit_unsupported_compilation(\u001b[39mself\u001b[39m, err, \u001b[39m*\u001b[39m\u001b[39m*\u001b[39mkw)\n\u001b[1;32m     81\u001b[0m \u001b[39melse\u001b[39;00m:\n\u001b[0;32m---> 82\u001b[0m     \u001b[39mreturn\u001b[39;00m meth(\u001b[39mself\u001b[39;49m, \u001b[39m*\u001b[39;49m\u001b[39m*\u001b[39;49mkw)\n",
      "File \u001b[0;32m~/miniconda3/envs/data/lib/python3.10/site-packages/sqlalchemy/sql/compiler.py:3852\u001b[0m, in \u001b[0;36mSQLCompiler.visit_insert\u001b[0;34m(self, insert_stmt, **kw)\u001b[0m\n\u001b[1;32m   3842\u001b[0m         \u001b[39mself\u001b[39m\u001b[39m.\u001b[39mcompile_state \u001b[39m=\u001b[39m compile_state\n\u001b[1;32m   3844\u001b[0m \u001b[39mself\u001b[39m\u001b[39m.\u001b[39mstack\u001b[39m.\u001b[39mappend(\n\u001b[1;32m   3845\u001b[0m     {\n\u001b[1;32m   3846\u001b[0m         \u001b[39m\"\u001b[39m\u001b[39mcorrelate_froms\u001b[39m\u001b[39m\"\u001b[39m: \u001b[39mset\u001b[39m(),\n\u001b[0;32m   (...)\u001b[0m\n\u001b[1;32m   3849\u001b[0m     }\n\u001b[1;32m   3850\u001b[0m )\n\u001b[0;32m-> 3852\u001b[0m crud_params \u001b[39m=\u001b[39m crud\u001b[39m.\u001b[39;49m_get_crud_params(\n\u001b[1;32m   3853\u001b[0m     \u001b[39mself\u001b[39;49m, insert_stmt, compile_state, \u001b[39m*\u001b[39;49m\u001b[39m*\u001b[39;49mkw\n\u001b[1;32m   3854\u001b[0m )\n\u001b[1;32m   3856\u001b[0m \u001b[39mif\u001b[39;00m (\n\u001b[1;32m   3857\u001b[0m     \u001b[39mnot\u001b[39;00m crud_params\n\u001b[1;32m   3858\u001b[0m     \u001b[39mand\u001b[39;00m \u001b[39mnot\u001b[39;00m \u001b[39mself\u001b[39m\u001b[39m.\u001b[39mdialect\u001b[39m.\u001b[39msupports_default_values\n\u001b[1;32m   3859\u001b[0m     \u001b[39mand\u001b[39;00m \u001b[39mnot\u001b[39;00m \u001b[39mself\u001b[39m\u001b[39m.\u001b[39mdialect\u001b[39m.\u001b[39msupports_default_metavalue\n\u001b[1;32m   3860\u001b[0m     \u001b[39mand\u001b[39;00m \u001b[39mnot\u001b[39;00m \u001b[39mself\u001b[39m\u001b[39m.\u001b[39mdialect\u001b[39m.\u001b[39msupports_empty_insert\n\u001b[1;32m   3861\u001b[0m ):\n\u001b[1;32m   3862\u001b[0m     \u001b[39mraise\u001b[39;00m exc\u001b[39m.\u001b[39mCompileError(\n\u001b[1;32m   3863\u001b[0m         \u001b[39m\"\u001b[39m\u001b[39mThe \u001b[39m\u001b[39m'\u001b[39m\u001b[39m%s\u001b[39;00m\u001b[39m'\u001b[39m\u001b[39m dialect with current database \u001b[39m\u001b[39m\"\u001b[39m\n\u001b[1;32m   3864\u001b[0m         \u001b[39m\"\u001b[39m\u001b[39mversion settings does not support empty \u001b[39m\u001b[39m\"\u001b[39m\n\u001b[1;32m   3865\u001b[0m         \u001b[39m\"\u001b[39m\u001b[39minserts.\u001b[39m\u001b[39m\"\u001b[39m \u001b[39m%\u001b[39m \u001b[39mself\u001b[39m\u001b[39m.\u001b[39mdialect\u001b[39m.\u001b[39mname\n\u001b[1;32m   3866\u001b[0m     )\n",
      "File \u001b[0;32m~/miniconda3/envs/data/lib/python3.10/site-packages/sqlalchemy/sql/crud.py:169\u001b[0m, in \u001b[0;36m_get_crud_params\u001b[0;34m(compiler, stmt, compile_state, **kw)\u001b[0m\n\u001b[1;32m    163\u001b[0m     check \u001b[39m=\u001b[39m (\n\u001b[1;32m    164\u001b[0m         \u001b[39mset\u001b[39m(parameters)\n\u001b[1;32m    165\u001b[0m         \u001b[39m.\u001b[39mintersection(_column_as_key(k) \u001b[39mfor\u001b[39;00m k, v \u001b[39min\u001b[39;00m stmt_parameter_tuples)\n\u001b[1;32m    166\u001b[0m         \u001b[39m.\u001b[39mdifference(check_columns)\n\u001b[1;32m    167\u001b[0m     )\n\u001b[1;32m    168\u001b[0m     \u001b[39mif\u001b[39;00m check:\n\u001b[0;32m--> 169\u001b[0m         \u001b[39mraise\u001b[39;00m exc\u001b[39m.\u001b[39mCompileError(\n\u001b[1;32m    170\u001b[0m             \u001b[39m\"\u001b[39m\u001b[39mUnconsumed column names: \u001b[39m\u001b[39m%s\u001b[39;00m\u001b[39m\"\u001b[39m\n\u001b[1;32m    171\u001b[0m             \u001b[39m%\u001b[39m (\u001b[39m\"\u001b[39m\u001b[39m, \u001b[39m\u001b[39m\"\u001b[39m\u001b[39m.\u001b[39mjoin(\u001b[39m\"\u001b[39m\u001b[39m%s\u001b[39;00m\u001b[39m\"\u001b[39m \u001b[39m%\u001b[39m (c,) \u001b[39mfor\u001b[39;00m c \u001b[39min\u001b[39;00m check))\n\u001b[1;32m    172\u001b[0m         )\n\u001b[1;32m    174\u001b[0m \u001b[39mif\u001b[39;00m compile_state\u001b[39m.\u001b[39m_has_multi_parameters:\n\u001b[1;32m    175\u001b[0m     values \u001b[39m=\u001b[39m _extend_values_for_multiparams(\n\u001b[1;32m    176\u001b[0m         compiler,\n\u001b[1;32m    177\u001b[0m         stmt,\n\u001b[0;32m   (...)\u001b[0m\n\u001b[1;32m    181\u001b[0m         kw,\n\u001b[1;32m    182\u001b[0m     )\n",
      "\u001b[0;31mCompileError\u001b[0m: Unconsumed column names: name, active, salary, Id"
     ]
    }
   ],
   "source": [
    "#Inserting record one by one\n",
    "query = db.insert(emp).values(Id=1, name='naveen', salary=60000.00, active=True) \n",
    "ResultProxy = connection.execute(query)"
   ]
  },
  {
   "cell_type": "code",
   "execution_count": null,
   "metadata": {},
   "outputs": [],
   "source": [
    "#Inserting many records at ones\n",
    "query = db.insert(emp) \n",
    "values_list = [{'Id':'2', 'name':'ram', 'salary':80000, 'active':False},\n",
    "               {'Id':'3', 'name':'ramesh', 'salary':70000, 'active':True}]\n",
    "ResultProxy = connection.execute(query,values_list)\n"
   ]
  },
  {
   "cell_type": "code",
   "execution_count": null,
   "metadata": {},
   "outputs": [],
   "source": [
    "\n",
    "results = connection.execute(db.select([emp])).fetchall()\n",
    "df = pd.DataFrame(results)\n",
    "df.columns = results[0].keys()\n",
    "df.shape"
   ]
  }
 ],
 "metadata": {
  "kernelspec": {
   "display_name": "Python 3.10.8 ('data')",
   "language": "python",
   "name": "python3"
  },
  "language_info": {
   "codemirror_mode": {
    "name": "ipython",
    "version": 3
   },
   "file_extension": ".py",
   "mimetype": "text/x-python",
   "name": "python",
   "nbconvert_exporter": "python",
   "pygments_lexer": "ipython3",
   "version": "3.10.8"
  },
  "orig_nbformat": 4,
  "vscode": {
   "interpreter": {
    "hash": "c09735733c6285679cacaa51f91ede4e23ce045856625db662675b732ea0d9ef"
   }
  }
 },
 "nbformat": 4,
 "nbformat_minor": 2
}
